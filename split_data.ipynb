{
 "cells": [
  {
   "metadata": {},
   "cell_type": "markdown",
   "source": [
    "Файл customer_and_transaction.xlsx содержал данные о транзакциях, продуктах и клиентах. Разбил его на три отдельных файла:\n",
    "\n",
    "Customers (customers.csv) – содержит только уникальные customer_id, так как других данных о клиентах не было.\n",
    "\n",
    "Products (products.csv) – содержит информацию о товарах (product_id, brand, product_line, и т. д.), удалены дубликаты по product_id.\n",
    "\n",
    "Transactions (transactions.csv) – фиксирует транзакции (transaction_id, customer_id, product_id, transaction_date и др.)."
   ],
   "id": "da88a83f16aa1bfa"
  },
  {
   "cell_type": "code",
   "execution_count": null,
   "id": "initial_id",
   "metadata": {
    "collapsed": true
   },
   "outputs": [],
   "source": [
    "import pandas as pd\n",
    "\n",
    "df = pd.read_excel('customer_and_transaction.xlsx')\n",
    "\n",
    "customers = df[['customer_id']].drop_duplicates()\n",
    "\n",
    "products = df[['product_id', 'brand', 'product_line', 'product_class', 'product_size', 'list_price', 'standard_cost']].drop_duplicates()\n",
    "\n",
    "transactions = df[['transaction_id', 'customer_id', 'product_id', 'transaction_date', 'online_order', 'order_status']]\n",
    "\n",
    "customers.to_csv('customers.csv', index=False, encoding='utf-8')\n",
    "products.to_csv('products.csv', index=False, encoding='utf-8')\n",
    "transactions.to_csv('transactions.csv', index=False, encoding='utf-8')"
   ]
  },
  {
   "metadata": {
    "ExecuteTime": {
     "end_time": "2025-02-16T09:19:12.770720Z",
     "start_time": "2025-02-16T09:19:12.260239Z"
    }
   },
   "cell_type": "code",
   "source": [
    "import pandas as pd\n",
    "\n",
    "products = pd.read_csv('data/products.csv')\n",
    "products_unique = products.drop_duplicates(subset=['product_id'])\n",
    "products_unique.to_csv('products_unique.csv', index=False, encoding='utf-8')"
   ],
   "id": "1c115e94f7bb0bfb",
   "outputs": [],
   "execution_count": 1
  },
  {
   "metadata": {},
   "cell_type": "markdown",
   "source": [
    "\n",
    "Ресурс https://dbdiagram.io/home?utm_source=holistics&utm_medium=top_5_tools_blog недоступен, отрисовал в DBeaver\n",
    "\n",
    "<img src=\"images/script.png\" width=\"800\"/>\n",
    "\n",
    "<img src=\"images/ER Diagram.png\" width=\"800\"/>\n",
    "\n",
    "Табличку customers вынес отдельно для возможности расширения\n",
    "\n",
    "<img src=\"images/customers.png\" width=\"800\"/>\n",
    "\n",
    "<img src=\"images/products.png\" width=\"800\"/>\n",
    "\n",
    "<img src=\"images/transactions.png\" width=\"800\"/>\n",
    "\n"
   ],
   "id": "4c233b91e0455979"
  },
  {
   "metadata": {},
   "cell_type": "code",
   "outputs": [],
   "execution_count": null,
   "source": "",
   "id": "915d17ab99ff2df9"
  }
 ],
 "metadata": {
  "kernelspec": {
   "display_name": "Python 3",
   "language": "python",
   "name": "python3"
  },
  "language_info": {
   "codemirror_mode": {
    "name": "ipython",
    "version": 2
   },
   "file_extension": ".py",
   "mimetype": "text/x-python",
   "name": "python",
   "nbconvert_exporter": "python",
   "pygments_lexer": "ipython2",
   "version": "2.7.6"
  }
 },
 "nbformat": 4,
 "nbformat_minor": 5
}
